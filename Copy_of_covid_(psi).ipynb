{
  "nbformat": 4,
  "nbformat_minor": 0,
  "metadata": {
    "colab": {
      "provenance": [],
      "authorship_tag": "ABX9TyMcPrNCIraQ0mqEy/JnBEjE",
      "include_colab_link": true
    },
    "kernelspec": {
      "name": "python3",
      "display_name": "Python 3"
    },
    "language_info": {
      "name": "python"
    }
  },
  "cells": [
    {
      "cell_type": "markdown",
      "metadata": {
        "id": "view-in-github",
        "colab_type": "text"
      },
      "source": [
        "<a href=\"https://colab.research.google.com/github/chenant2017/covid/blob/main/Copy_of_covid_(psi).ipynb\" target=\"_parent\"><img src=\"https://colab.research.google.com/assets/colab-badge.svg\" alt=\"Open In Colab\"/></a>"
      ]
    },
    {
      "cell_type": "code",
      "execution_count": null,
      "metadata": {
        "colab": {
          "base_uri": "https://localhost:8080/"
        },
        "id": "rRydbvM25BLw",
        "outputId": "49c23c67-85cd-4759-f9ab-b4977bb30732"
      },
      "outputs": [
        {
          "output_type": "stream",
          "name": "stdout",
          "text": [
            "/home/chenant/rmats_covid/covid2\n",
            "combined2.csv\t\t\t   go-basic.obo        psi\r\n",
            "combined.csv\t\t\t   heatmap.R\t       __pycache__\r\n",
            "csv\t\t\t\t   mild_mod_to_sev     sashimi\r\n",
            "gene2go\t\t\t\t   moderate_severe     sig_exons_all\r\n",
            "genes_ncbi_10090_proteincoding.py  moderate_severe_ns  sig_exons_ms\r\n",
            "genes_ncbi_9606_proteincoding.py   moderate_severe_s   sig_exons_NEW\r\n"
          ]
        }
      ],
      "source": [
        "%cd ~/rmats_covid/covid2\n",
        "!ls"
      ]
    },
    {
      "cell_type": "code",
      "source": [
        "!ls psi"
      ],
      "metadata": {
        "colab": {
          "base_uri": "https://localhost:8080/"
        },
        "id": "oskBsiUKp84L",
        "outputId": "9f0ef773-abac-47ef-88e3-588bda29509e"
      },
      "execution_count": null,
      "outputs": [
        {
          "output_type": "stream",
          "name": "stdout",
          "text": [
            "A3SS.MATS.JCEC.txt\t\t  JCEC.raw.input.MXE.txt\r\n",
            "A3SS.MATS.JC.txt\t\t  JCEC.raw.input.RI.txt\r\n",
            "A5SS.MATS.JCEC.txt\t\t  JCEC.raw.input.SE.txt\r\n",
            "A5SS.MATS.JC.txt\t\t  JC.raw.input.A3SS.txt\r\n",
            "covid_psi.tar.gz\t\t  JC.raw.input.A5SS.txt\r\n",
            "fromGTF.A3SS.txt\t\t  JC.raw.input.MXE.txt\r\n",
            "fromGTF.A5SS.txt\t\t  JC.raw.input.RI.txt\r\n",
            "fromGTF.MXE.txt\t\t\t  JC.raw.input.SE.txt\r\n",
            "fromGTF.novelJunction.A3SS.txt\t  metadata.txt\r\n",
            "fromGTF.novelJunction.A5SS.txt\t  metadata.txt:Zone.Identifier\r\n",
            "fromGTF.novelJunction.MXE.txt\t  MXE.MATS.JCEC.txt\r\n",
            "fromGTF.novelJunction.RI.txt\t  MXE.MATS.JC.txt\r\n",
            "fromGTF.novelJunction.SE.txt\t  out\r\n",
            "fromGTF.novelSpliceSite.A3SS.txt  psi_ri.txt\r\n",
            "fromGTF.novelSpliceSite.A5SS.txt  psi_se.txt\r\n",
            "fromGTF.novelSpliceSite.MXE.txt   RI.MATS.JCEC.txt\r\n",
            "fromGTF.novelSpliceSite.RI.txt\t  RI.MATS.JC.txt\r\n",
            "fromGTF.novelSpliceSite.SE.txt\t  SE.MATS.JCEC.txt\r\n",
            "fromGTF.RI.txt\t\t\t  SE.MATS.JC.txt\r\n",
            "fromGTF.SE.txt\t\t\t  summary.txt\r\n",
            "JCEC.raw.input.A3SS.txt\t\t  tmp\r\n",
            "JCEC.raw.input.A5SS.txt\r\n"
          ]
        }
      ]
    },
    {
      "cell_type": "code",
      "source": [
        "\"\"\"\n",
        "class_exon class downloaded from\n",
        "https://github.com/Xinglab/rmats-turbo-tutorial/tree/main/scripts\n",
        "\n",
        "https://www.biostars.org/p/256949/\n",
        "\n",
        "conda install build\n",
        "cd rmats-turbo-tutorial/scripts\n",
        "conda develop .  # this will install class_exon\n",
        "\n",
        "TODO: get all PSI based on\n",
        "https://github.com/Xinglab/rmats-turbo/issues/1\n",
        "\"\"\"\n",
        "\n",
        "from class_exon import get_exon_class\n",
        "import pandas as pd\n",
        "import numpy as np\n",
        "import seaborn as sns"
      ],
      "metadata": {
        "id": "lXOs0DzN5PTa"
      },
      "execution_count": null,
      "outputs": []
    },
    {
      "cell_type": "code",
      "source": [
        "\n",
        "\n",
        "def get_header(bams):\n",
        "  runs = [[k.split(\".\")[0] for k in [j.split(\"/\")[-1] for j in i.split(\",\")]] for i in bams.split(\"\\n\")]\n",
        "  return runs[0] + runs[1]\n",
        "\n",
        "def GetPSI(filename, min_count=15, qmin=0.05, qmax=0.95, header=None, bams=None, out=None, skip_filter=False):\n",
        "  \"\"\" GetPSI in rMATS output.\n",
        "\n",
        "  Added filters to select high-confidence alternative splicing events.\n",
        "  The following criteria are recommended:\n",
        "  • Read coverage: average RNA-seq read count ≥ 10 across all samples. (10/50)\n",
        "  • PSI value: filter out events with average PSI value < 0.05 or > 0.95 in both sample groups.\n",
        "\n",
        "  Args:\n",
        "    filename: input file\n",
        "    min_count: minimal average read count across all samples.\n",
        "    qmin: min quantile to be aligned. Default 5%.\n",
        "    qmax: max quantile to be aligned. Default 95%.\n",
        "    skip_filter: whether to skip exon filter\n",
        "  \"\"\"\n",
        "\n",
        "  exon, event_type = get_exon_class(filename)\n",
        "  print(filename, \"||||\", event_type)\n",
        "  n = 0\n",
        "  id = [] #exon IDs\n",
        "  psi = [] #all PSI values\n",
        "  with open(filename, \"r\") as fin:\n",
        "    fin.readline()\n",
        "    for line in fin:\n",
        "        x = exon(line)\n",
        "        tpsi = np.array([i for i in (x.IncLevel1 + x.IncLevel2)]) #array of PSI of all samples. IMPORTANT: IncLevel means PSI\n",
        "        if np.all(np.isnan(tpsi)):\n",
        "          continue\n",
        "        mean_psi = np.nanmean(tpsi)\n",
        "        tpsi[np.isnan(tpsi)] = mean_psi #replace nan with mean\n",
        "        if not skip_filter:\n",
        "          if mean_psi < qmin or mean_psi > qmax or x.averageCount < min_count:\n",
        "            continue\n",
        "        id.append(x.uniqID)\n",
        "        psi.append(tpsi)\n",
        "  psi = pd.DataFrame(psi, index=id)\n",
        "  if bams is not None:\n",
        "    header = get_header(bams)\n",
        "  if header:\n",
        "    psi.columns = header\n",
        "  if out:\n",
        "    psi.to_csv(out, sep=\"\\t\")\n",
        "  return  psi"
      ],
      "metadata": {
        "id": "xRhY3lmg8E_V"
      },
      "execution_count": null,
      "outputs": []
    },
    {
      "cell_type": "markdown",
      "source": [
        "# rMATS filtering"
      ],
      "metadata": {
        "id": "4Kg3yp-TniEQ"
      }
    },
    {
      "cell_type": "markdown",
      "source": [
        "* Read coverage: average RNA-seq read count ≥ 15 in both sample groups.\n",
        "\n",
        "* PSI value: filter out events with average PSI value < 0.05 or > 0.95 in both sample\n",
        "groups.\n",
        "* FDR: FDR ≤ 0.01.\n",
        "* Between-group PSI value difference: |ΔPSI| ≥ 0.05."
      ],
      "metadata": {
        "id": "snRnL3cQnmS3"
      }
    },
    {
      "cell_type": "code",
      "source": [
        "def GetExons(filename, psi=None, min_count=15, qmin=0.05, qmax=0.95, max_fdr=0.01, min_delta=0.05, out=None):\n",
        "  \"\"\" GetPSI in rMATS output.\n",
        "\n",
        "  Added filters to select high-confidence alternative splicing events.\n",
        "  The following criteria are recommended:\n",
        "  • Read coverage: average RNA-seq read count ≥ 10 in both sample groups.\n",
        "  • PSI value: filter out events with average PSI value < 0.05 or > 0.95 in both sample groups.\n",
        "  • FDR: FDR ≤ 0.01.\n",
        "  • Between-group PSI value difference: |ΔPSI| ≥ 0.05.\n",
        "\n",
        "  Args:\n",
        "    filename: input file\n",
        "    min_count: minimal average read count across all samples.\n",
        "    qmin: min quantile to be aligned. Default 5%.\n",
        "    qmax: max quantile to be aligned. Default 95%.\n",
        "  \"\"\"\n",
        "\n",
        "  exon, event_type = get_exon_class(filename)\n",
        "  print(filename, \"||||\", event_type)\n",
        "  n = 0\n",
        "  id = [] #exon ID\n",
        "  rid = [] #row ID\n",
        "  fdr = [] #false discovery rate (FDR)\n",
        "  gene = [] #gene symbol\n",
        "  delta = [] #Between-group PSI value difference\n",
        "  with open(filename, \"r\") as fin:\n",
        "    fin.readline()\n",
        "    for line in fin:\n",
        "        x = exon(line)\n",
        "        if x.averageCount >= min_count: #read coverage filter\n",
        "          tpsi = np.array([i for i in (x.IncLevel1 + x.IncLevel2)])\n",
        "          if np.all(np.isnan(tpsi)):\n",
        "            continue\n",
        "          mean_psi = np.nanmean(tpsi)\n",
        "          tpsi[np.isnan(tpsi)] = mean_psi\n",
        "          if qmin <= mean_psi <= qmax:\n",
        "              if x.FDR <= max_fdr and abs(x.IncLevelDifference) >= min_delta:\n",
        "                id.append(x.uniqID)\n",
        "                fdr.append(x.FDR)\n",
        "                delta.append(x.IncLevelDifference)\n",
        "                gene.append(x.geneSymbol)\n",
        "                rid.append(x.ID)\n",
        "  df = pd.DataFrame({'FDR':np.round(fdr, 5), 'IncLevelDifference':delta, 'Gene':gene, 'rowID':rid}, index=id)\n",
        "  if psi is not None:\n",
        "    df = psi.merge(right=df, right_index=True, left_index=True, how=\"inner\") #add columns for additional attributes to the right\n",
        "  if out:\n",
        "    df.to_csv(out, sep=\"\\t\")\n",
        "  return  df"
      ],
      "metadata": {
        "id": "G8cP1TsJoEoY"
      },
      "execution_count": null,
      "outputs": []
    },
    {
      "cell_type": "code",
      "source": [
        "psi_col = \"\"\"ERR6745775\n",
        "ERR6745776\n",
        "ERR6745777\n",
        "ERR6745778\n",
        "ERR6745779\n",
        "ERR6745780\n",
        "ERR6745781\n",
        "ERR6745782\n",
        "ERR6745783\n",
        "ERR6745784\n",
        "ERR6745785\n",
        "ERR6745786\n",
        "ERR6745787\n",
        "ERR6745788\n",
        "ERR6745789\n",
        "ERR6745790\n",
        "ERR6745791\n",
        "ERR6745792\n",
        "ERR6745793\n",
        "ERR6745794\n",
        "ERR6745795\n",
        "ERR6745796\n",
        "ERR6745797\n",
        "ERR6745798\n",
        "ERR6745799\n",
        "ERR6745800\n",
        "ERR6745801\n",
        "ERR6745802\n",
        "ERR6745803\n",
        "ERR6745804\n",
        "ERR6745805\n",
        "ERR6745806\n",
        "ERR6745807\n",
        "ERR6745808\n",
        "ERR6745809\n",
        "ERR6745810\n",
        "ERR6745811\n",
        "ERR6745812\n",
        "ERR6745813\n",
        "ERR6745814\n",
        "ERR6745815\n",
        "ERR6745816\n",
        "ERR6745817\n",
        "ERR6745818\n",
        "ERR6745819\n",
        "ERR6745820\n",
        "ERR6745821\n",
        "ERR6745822\n",
        "ERR6745823\n",
        "ERR6745824\n",
        "ERR6745825\n",
        "ERR6745826\n",
        "ERR6745827\n",
        "ERR6745828\n",
        "ERR6745829\"\"\".split(\"\\n\")"
      ],
      "metadata": {
        "id": "J6o84dZtatkj"
      },
      "execution_count": null,
      "outputs": []
    },
    {
      "cell_type": "code",
      "source": [
        "types = [\"SE\", \"RI\", \"MXE\", \"A3SS\", \"A5SS\"]\n",
        "\n",
        "for i in types:\n",
        "  psi = GetPSI(\"psi/{}.MATS.JC.txt\".format(i), header=psi_col, out=\"sig_exons_NEW/psi/{}.txt\".format(i))\n",
        "  GetExons(\"moderate_severe/{}.MATS.JC.txt\".format(i), min_count=15, psi=psi, out=\"sig_exons_NEW/ms/{}.txt\".format(i))\n",
        "  GetExons(\"mild_mod_to_sev/{}.MATS.JC.txt\".format(i), min_count=15, psi=psi, out=\"sig_exons_NEW/mms/{}.txt\".format(i))"
      ],
      "metadata": {
        "colab": {
          "base_uri": "https://localhost:8080/"
        },
        "id": "BYkNCchLrlKF",
        "outputId": "7544e3e9-b05a-44b5-afc5-6b777ff43edb"
      },
      "execution_count": null,
      "outputs": [
        {
          "output_type": "stream",
          "name": "stdout",
          "text": [
            "psi/SE.MATS.JC.txt |||| SE\n",
            "moderate_severe/SE.MATS.JC.txt |||| SE\n",
            "mild_mod_to_sev/SE.MATS.JC.txt |||| SE\n",
            "psi/RI.MATS.JC.txt |||| RI\n",
            "moderate_severe/RI.MATS.JC.txt |||| RI\n",
            "mild_mod_to_sev/RI.MATS.JC.txt |||| RI\n",
            "psi/MXE.MATS.JC.txt |||| MXE\n",
            "moderate_severe/MXE.MATS.JC.txt |||| MXE\n",
            "mild_mod_to_sev/MXE.MATS.JC.txt |||| MXE\n",
            "psi/A3SS.MATS.JC.txt |||| A3SS\n",
            "moderate_severe/A3SS.MATS.JC.txt |||| A3SS\n",
            "mild_mod_to_sev/A3SS.MATS.JC.txt |||| A3SS\n",
            "psi/A5SS.MATS.JC.txt |||| A5SS\n",
            "moderate_severe/A5SS.MATS.JC.txt |||| A5SS\n",
            "mild_mod_to_sev/A5SS.MATS.JC.txt |||| A5SS\n"
          ]
        }
      ]
    },
    {
      "cell_type": "code",
      "source": [
        "a.sort_values(by=\"FDR\").head()"
      ],
      "metadata": {
        "colab": {
          "base_uri": "https://localhost:8080/",
          "height": 342
        },
        "id": "7qrS4vmhnGme",
        "outputId": "24221ad5-c9c2-4d56-d201-50d6bc8a0be5"
      },
      "execution_count": null,
      "outputs": [
        {
          "output_type": "execute_result",
          "data": {
            "text/plain": [
              "                                          Unnamed: 0  ERR6745775  ERR6745776  \\\n",
              "19    chr6:150638079-150638125|+|150600017|150650727       0.000       0.000   \n",
              "110  chr12:106959269-106959385|+|106957149|106967110       0.049       0.075   \n",
              "18       chr15:33088798-33088974|-|33065074|33153047       1.000       0.776   \n",
              "56   chr14:100374135-100374244|-|100369258|100376259       0.000       0.143   \n",
              "73        chr7:66476258-66476327|-|66467719|66479008       1.000       1.000   \n",
              "\n",
              "     ERR6745777  ERR6745778  ERR6745779  ERR6745780  ERR6745781  ERR6745782  \\\n",
              "19        0.000       0.000       0.099       0.234       0.179       0.000   \n",
              "110       0.303       0.000       0.000       0.083       0.000       0.056   \n",
              "18        0.840       1.000       0.733       1.000       0.967       0.556   \n",
              "56        0.199       0.000       0.019       0.000       0.232       0.000   \n",
              "73        0.593       0.646       1.000       0.935       0.813       1.000   \n",
              "\n",
              "     ERR6745783  ...  ERR6745823  ERR6745824  ERR6745825  ERR6745826  \\\n",
              "19        0.434  ...       0.133       0.000       0.094       0.000   \n",
              "110       0.172  ...       0.050       0.059       0.229       0.083   \n",
              "18        0.960  ...       1.000       1.000       1.000       0.500   \n",
              "56        0.323  ...       0.000       0.272       0.000       0.267   \n",
              "73        0.883  ...       0.906       0.911       0.774       0.755   \n",
              "\n",
              "     ERR6745827  ERR6745828  ERR6745829      FDR  IncLevelDifference  \\\n",
              "19        0.000       0.000       0.078  0.00001               0.160   \n",
              "110       0.000       0.000       0.000  0.00001               0.080   \n",
              "18        0.938       0.724       0.750  0.00001               0.054   \n",
              "56        0.000       0.012       0.000  0.00001               0.161   \n",
              "73        0.601       0.774       0.785  0.00001               0.124   \n",
              "\n",
              "          Gene  \n",
              "19     PLEKHG1  \n",
              "110    TMEM263  \n",
              "18        FMN1  \n",
              "56        WARS  \n",
              "73   LINC00174  \n",
              "\n",
              "[5 rows x 59 columns]"
            ],
            "text/html": [
              "<div>\n",
              "<style scoped>\n",
              "    .dataframe tbody tr th:only-of-type {\n",
              "        vertical-align: middle;\n",
              "    }\n",
              "\n",
              "    .dataframe tbody tr th {\n",
              "        vertical-align: top;\n",
              "    }\n",
              "\n",
              "    .dataframe thead th {\n",
              "        text-align: right;\n",
              "    }\n",
              "</style>\n",
              "<table border=\"1\" class=\"dataframe\">\n",
              "  <thead>\n",
              "    <tr style=\"text-align: right;\">\n",
              "      <th></th>\n",
              "      <th>Unnamed: 0</th>\n",
              "      <th>ERR6745775</th>\n",
              "      <th>ERR6745776</th>\n",
              "      <th>ERR6745777</th>\n",
              "      <th>ERR6745778</th>\n",
              "      <th>ERR6745779</th>\n",
              "      <th>ERR6745780</th>\n",
              "      <th>ERR6745781</th>\n",
              "      <th>ERR6745782</th>\n",
              "      <th>ERR6745783</th>\n",
              "      <th>...</th>\n",
              "      <th>ERR6745823</th>\n",
              "      <th>ERR6745824</th>\n",
              "      <th>ERR6745825</th>\n",
              "      <th>ERR6745826</th>\n",
              "      <th>ERR6745827</th>\n",
              "      <th>ERR6745828</th>\n",
              "      <th>ERR6745829</th>\n",
              "      <th>FDR</th>\n",
              "      <th>IncLevelDifference</th>\n",
              "      <th>Gene</th>\n",
              "    </tr>\n",
              "  </thead>\n",
              "  <tbody>\n",
              "    <tr>\n",
              "      <th>19</th>\n",
              "      <td>chr6:150638079-150638125|+|150600017|150650727</td>\n",
              "      <td>0.000</td>\n",
              "      <td>0.000</td>\n",
              "      <td>0.000</td>\n",
              "      <td>0.000</td>\n",
              "      <td>0.099</td>\n",
              "      <td>0.234</td>\n",
              "      <td>0.179</td>\n",
              "      <td>0.000</td>\n",
              "      <td>0.434</td>\n",
              "      <td>...</td>\n",
              "      <td>0.133</td>\n",
              "      <td>0.000</td>\n",
              "      <td>0.094</td>\n",
              "      <td>0.000</td>\n",
              "      <td>0.000</td>\n",
              "      <td>0.000</td>\n",
              "      <td>0.078</td>\n",
              "      <td>0.00001</td>\n",
              "      <td>0.160</td>\n",
              "      <td>PLEKHG1</td>\n",
              "    </tr>\n",
              "    <tr>\n",
              "      <th>110</th>\n",
              "      <td>chr12:106959269-106959385|+|106957149|106967110</td>\n",
              "      <td>0.049</td>\n",
              "      <td>0.075</td>\n",
              "      <td>0.303</td>\n",
              "      <td>0.000</td>\n",
              "      <td>0.000</td>\n",
              "      <td>0.083</td>\n",
              "      <td>0.000</td>\n",
              "      <td>0.056</td>\n",
              "      <td>0.172</td>\n",
              "      <td>...</td>\n",
              "      <td>0.050</td>\n",
              "      <td>0.059</td>\n",
              "      <td>0.229</td>\n",
              "      <td>0.083</td>\n",
              "      <td>0.000</td>\n",
              "      <td>0.000</td>\n",
              "      <td>0.000</td>\n",
              "      <td>0.00001</td>\n",
              "      <td>0.080</td>\n",
              "      <td>TMEM263</td>\n",
              "    </tr>\n",
              "    <tr>\n",
              "      <th>18</th>\n",
              "      <td>chr15:33088798-33088974|-|33065074|33153047</td>\n",
              "      <td>1.000</td>\n",
              "      <td>0.776</td>\n",
              "      <td>0.840</td>\n",
              "      <td>1.000</td>\n",
              "      <td>0.733</td>\n",
              "      <td>1.000</td>\n",
              "      <td>0.967</td>\n",
              "      <td>0.556</td>\n",
              "      <td>0.960</td>\n",
              "      <td>...</td>\n",
              "      <td>1.000</td>\n",
              "      <td>1.000</td>\n",
              "      <td>1.000</td>\n",
              "      <td>0.500</td>\n",
              "      <td>0.938</td>\n",
              "      <td>0.724</td>\n",
              "      <td>0.750</td>\n",
              "      <td>0.00001</td>\n",
              "      <td>0.054</td>\n",
              "      <td>FMN1</td>\n",
              "    </tr>\n",
              "    <tr>\n",
              "      <th>56</th>\n",
              "      <td>chr14:100374135-100374244|-|100369258|100376259</td>\n",
              "      <td>0.000</td>\n",
              "      <td>0.143</td>\n",
              "      <td>0.199</td>\n",
              "      <td>0.000</td>\n",
              "      <td>0.019</td>\n",
              "      <td>0.000</td>\n",
              "      <td>0.232</td>\n",
              "      <td>0.000</td>\n",
              "      <td>0.323</td>\n",
              "      <td>...</td>\n",
              "      <td>0.000</td>\n",
              "      <td>0.272</td>\n",
              "      <td>0.000</td>\n",
              "      <td>0.267</td>\n",
              "      <td>0.000</td>\n",
              "      <td>0.012</td>\n",
              "      <td>0.000</td>\n",
              "      <td>0.00001</td>\n",
              "      <td>0.161</td>\n",
              "      <td>WARS</td>\n",
              "    </tr>\n",
              "    <tr>\n",
              "      <th>73</th>\n",
              "      <td>chr7:66476258-66476327|-|66467719|66479008</td>\n",
              "      <td>1.000</td>\n",
              "      <td>1.000</td>\n",
              "      <td>0.593</td>\n",
              "      <td>0.646</td>\n",
              "      <td>1.000</td>\n",
              "      <td>0.935</td>\n",
              "      <td>0.813</td>\n",
              "      <td>1.000</td>\n",
              "      <td>0.883</td>\n",
              "      <td>...</td>\n",
              "      <td>0.906</td>\n",
              "      <td>0.911</td>\n",
              "      <td>0.774</td>\n",
              "      <td>0.755</td>\n",
              "      <td>0.601</td>\n",
              "      <td>0.774</td>\n",
              "      <td>0.785</td>\n",
              "      <td>0.00001</td>\n",
              "      <td>0.124</td>\n",
              "      <td>LINC00174</td>\n",
              "    </tr>\n",
              "  </tbody>\n",
              "</table>\n",
              "<p>5 rows × 59 columns</p>\n",
              "</div>"
            ]
          },
          "metadata": {},
          "execution_count": 59
        }
      ]
    },
    {
      "cell_type": "code",
      "source": [
        "!wc sig_exons_all/mms/*"
      ],
      "metadata": {
        "colab": {
          "base_uri": "https://localhost:8080/"
        },
        "id": "5rwLw8KvcCQZ",
        "outputId": "c0650fd9-09a5-4ee8-8c64-a2108fbca0d1"
      },
      "execution_count": null,
      "outputs": [
        {
          "output_type": "stream",
          "name": "stdout",
          "text": [
            "    21   1238   8042 sig_exons_all/mms/A3SS.txt\r\n",
            "    15    884   5885 sig_exons_all/mms/A5SS.txt\r\n",
            "    99   5840  39605 sig_exons_all/mms/MXE.txt\r\n",
            "    77   4542  29868 sig_exons_all/mms/RI.txt\r\n",
            "   144   8495  53687 sig_exons_all/mms/SE.txt\r\n",
            "   356  20999 137087 total\r\n"
          ]
        }
      ]
    },
    {
      "cell_type": "markdown",
      "source": [],
      "metadata": {
        "id": "uW4VmAIQMc4T"
      }
    },
    {
      "cell_type": "code",
      "source": [
        "!ls sig_exons_NEW/psi"
      ],
      "metadata": {
        "colab": {
          "base_uri": "https://localhost:8080/"
        },
        "id": "ILORYz2GMdlE",
        "outputId": "a67adbc0-55ef-4cce-8655-5f7c8fd8c4ba"
      },
      "execution_count": null,
      "outputs": [
        {
          "output_type": "stream",
          "name": "stdout",
          "text": [
            "A3SS.txt  A5SS.txt  MXE.txt  RI.txt  SE.txt\r\n"
          ]
        }
      ]
    },
    {
      "cell_type": "code",
      "source": [
        "for t in [\"SE\", \"RI\", \"MXE\", \"A3SS\", \"A5SS\"]:\n",
        "  df = pd.read_csv(\"sig_exons_NEW/mms/\" + t + \".txt\", sep='\\t')\n",
        "  df2 = pd.read_csv(\"sig_exons_NEW/ms/\" + t + \".txt\", sep='\\t')\n",
        "  count = 0\n",
        "  for asdf in df['Unnamed: 0']:\n",
        "    if asdf in df2['Unnamed: 0']:\n",
        "      count += 1\n",
        "  print(t, count)"
      ],
      "metadata": {
        "colab": {
          "base_uri": "https://localhost:8080/"
        },
        "id": "z8UoaggXMi0P",
        "outputId": "10810a41-1c04-43c0-f88d-851d1b5523eb"
      },
      "execution_count": null,
      "outputs": [
        {
          "output_type": "stream",
          "name": "stdout",
          "text": [
            "SE 0\n",
            "RI 0\n",
            "MXE 0\n",
            "A3SS 0\n",
            "A5SS 0\n"
          ]
        }
      ]
    },
    {
      "cell_type": "code",
      "source": [],
      "metadata": {
        "id": "yiPwZRaWRG7y"
      },
      "execution_count": null,
      "outputs": []
    },
    {
      "cell_type": "code",
      "source": [
        "df = pd.read_csv(\"sig_exons_NEW/psi/\" + \"A3SS\" + \".txt\", sep='\\t')\n",
        "df['Unnamed: 0'][0]"
      ],
      "metadata": {
        "colab": {
          "base_uri": "https://localhost:8080/"
        },
        "id": "WfIw7l8iMvYQ",
        "outputId": "10a40d95-6deb-4dad-b99e-c51f3a8912e1"
      },
      "execution_count": null,
      "outputs": [
        {
          "output_type": "execute_result",
          "data": {
            "text/plain": [
              "'chr21:45505357-45505431|+|45505834|45505837'"
            ]
          },
          "metadata": {},
          "execution_count": 40
        }
      ]
    },
    {
      "cell_type": "markdown",
      "source": [],
      "metadata": {
        "id": "mnQ-f8QZMcXe"
      }
    },
    {
      "cell_type": "code",
      "source": [
        "def GetPSICounts(filename):\n",
        "  exon, event_type = get_exon_class(filename)\n",
        "  print(filename, \"||||\", event_type)\n",
        "  n = 0\n",
        "  id = []\n",
        "  psi = []\n",
        "  count = []\n",
        "  with open(filename, \"r\") as fin:\n",
        "    fin.readline()\n",
        "    for line in fin:\n",
        "        x = exon(line)\n",
        "        tpsi = np.array([i for i in (x.IncLevel1 + x.IncLevel2)])\n",
        "        if np.all(np.isnan(tpsi)):\n",
        "          continue\n",
        "        psi.append(np.nanmean(tpsi))\n",
        "        id.append(x.uniqID)\n",
        "        count.append(np.mean([\n",
        "            (i + j) for i, j in zip(x.IJC_SAMPLE_1 + x.IJC_SAMPLE_2,\n",
        "                                    x.SJC_SAMPLE_1 + x.SJC_SAMPLE_2)]))\n",
        "        # TODO: counts distribution\n",
        "  df = pd.DataFrame(zip(psi, count), index=id)\n",
        "  return df"
      ],
      "metadata": {
        "id": "2dIP_7N2WebH"
      },
      "execution_count": null,
      "outputs": []
    },
    {
      "cell_type": "code",
      "source": [
        "psi_se = GetPSICounts(\"psi/SE.MATS.JC.txt\")\n",
        "psi_se.columns = ['PSI', 'Read Count']"
      ],
      "metadata": {
        "colab": {
          "base_uri": "https://localhost:8080/"
        },
        "id": "zhC8hFzyX3u9",
        "outputId": "9ebd9558-6418-45aa-bd6d-1cd243c20891"
      },
      "execution_count": null,
      "outputs": [
        {
          "output_type": "stream",
          "name": "stdout",
          "text": [
            "psi/SE.MATS.JC.txt |||| SE\n"
          ]
        }
      ]
    },
    {
      "cell_type": "code",
      "source": [
        "h = sns.histplot(psi_se['PSI'])\n",
        "h.axvline(0.05, color='red')\n",
        "h.axvline(0.95, color='red')\n",
        "h.set(title=\"SE PSI Distribution\")\n",
        "h.set_yscale(\"log\")\n",
        "h.figure.set_size_inches(5, 5)"
      ],
      "metadata": {
        "colab": {
          "base_uri": "https://localhost:8080/",
          "height": 350
        },
        "id": "0JnfViMiYNq9",
        "outputId": "a5f6b036-71e2-421f-e7a9-7d32ceb83cab"
      },
      "execution_count": null,
      "outputs": [
        {
          "output_type": "display_data",
          "data": {
            "text/plain": [
              "<Figure size 360x360 with 1 Axes>"
            ],
            "image/png": "[encoded data removed]"
          },
          "metadata": {
            "needs_background": "light"
          }
        }
      ]
    },
    {
      "cell_type": "code",
      "source": [
        "h = sns.histplot(psi_se['Read Count'])\n",
        "h.set(title=\"SE Read Count Distribution\")\n",
        "h.axvline(15, color=\"red\")\n",
        "h.set_xscale(\"log\")\n",
        "h.set_yscale(\"log\")\n",
        "h.figure.set_size_inches(5, 5)"
      ],
      "metadata": {
        "colab": {
          "base_uri": "https://localhost:8080/",
          "height": 353
        },
        "id": "7AC4TYD_YZal",
        "outputId": "51afd347-a5f2-499e-f62d-68e696268566"
      },
      "execution_count": null,
      "outputs": [
        {
          "output_type": "display_data",
          "data": {
            "text/plain": [
              "<Figure size 360x360 with 1 Axes>"
            ],
            "image/png": "[encoded data removed]"
          },
          "metadata": {
            "needs_background": "light"
          }
        }
      ]
    }
  ]
}